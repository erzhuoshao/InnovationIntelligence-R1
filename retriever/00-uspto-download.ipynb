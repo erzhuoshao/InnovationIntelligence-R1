{
 "cells": [
  {
   "cell_type": "code",
   "execution_count": 1,
   "metadata": {},
   "outputs": [
    {
     "name": "stdout",
     "output_type": "stream",
     "text": [
      "--2025-03-23 03:56:54--  https://s3.amazonaws.com/data.patentsview.org/download/g_patent.tsv.zip\n",
      "Resolving s3.amazonaws.com (s3.amazonaws.com)... 16.182.96.144, 52.217.199.0, 52.216.146.69, ...\n",
      "Connecting to s3.amazonaws.com (s3.amazonaws.com)|16.182.96.144|:443... connected.\n",
      "HTTP request sent, awaiting response... 200 OK\n",
      "Length: 223192856 (213M) [binary/octet-stream]\n",
      "Saving to: ‘./data/g_patent.tsv.zip’\n",
      "\n",
      "g_patent.tsv.zip    100%[===================>] 212.85M  27.6MB/s    in 7.9s    \n",
      "\n",
      "2025-03-23 03:57:02 (27.0 MB/s) - ‘./data/g_patent.tsv.zip’ saved [223192856/223192856]\n",
      "\n",
      "--2025-03-23 03:57:03--  https://s3.amazonaws.com/data.patentsview.org/download/g_patent_abstract.tsv.zip\n",
      "Resolving s3.amazonaws.com (s3.amazonaws.com)... 52.216.206.117, 16.15.217.193, 16.15.217.123, ...\n",
      "Connecting to s3.amazonaws.com (s3.amazonaws.com)|52.216.206.117|:443... connected.\n",
      "HTTP request sent, awaiting response... 200 OK\n",
      "Length: 1647990737 (1.5G) [binary/octet-stream]\n",
      "Saving to: ‘./data/g_patent_abstract.tsv.zip’\n",
      "\n",
      "g_patent_abstract.t 100%[===================>]   1.53G  28.9MB/s    in 56s     \n",
      "\n",
      "2025-03-23 03:57:59 (28.2 MB/s) - ‘./data/g_patent_abstract.tsv.zip’ saved [1647990737/1647990737]\n",
      "\n",
      "Archive:  ./data/g_patent.tsv.zip\n",
      "  inflating: ./data/g_patent.tsv     \n",
      "Archive:  ./data/g_patent_abstract.tsv.zip\n",
      "  inflating: ./data/g_patent_abstract.tsv  \n"
     ]
    }
   ],
   "source": [
    "# Create data directory if it doesn't exist\n",
    "!mkdir -p ./data\n",
    "\n",
    "# Download patent files to data directory\n",
    "!wget -P ./data https://s3.amazonaws.com/data.patentsview.org/download/g_patent.tsv.zip\n",
    "!wget -P ./data https://s3.amazonaws.com/data.patentsview.org/download/g_patent_abstract.tsv.zip\n",
    "\n",
    "# Decompress the downloaded files\n",
    "!unzip -o patents/data/g_patent.tsv.zip -d ./data\n",
    "!unzip -o patents/data/g_patent_abstract.tsv.zip -d ./data"
   ]
  },
  {
   "cell_type": "code",
   "execution_count": 2,
   "metadata": {},
   "outputs": [
    {
     "name": "stderr",
     "output_type": "stream",
     "text": [
      "/tmp/ipykernel_1552863/1218841530.py:4: DtypeWarning: Columns (0) have mixed types. Specify dtype option on import or set low_memory=False.\n",
      "  patents = pd.read_csv('patents/data/g_patent.tsv', sep='\\t')\n",
      "/tmp/ipykernel_1552863/1218841530.py:5: DtypeWarning: Columns (0,1) have mixed types. Specify dtype option on import or set low_memory=False.\n",
      "  abstracts = pd.read_csv('patents/data/g_patent_abstract.tsv', sep='\\t')\n"
     ]
    }
   ],
   "source": [
    "import pandas as pd\n",
    "\n",
    "# Load the data into pandas dataframes\n",
    "patents = pd.read_csv('patents/data/g_patent.tsv', sep='\\t')\n",
    "abstracts = pd.read_csv('patents/data/g_patent_abstract.tsv', sep='\\t')"
   ]
  },
  {
   "cell_type": "code",
   "execution_count": 3,
   "metadata": {},
   "outputs": [
    {
     "name": "stderr",
     "output_type": "stream",
     "text": [
      "/mnt/erzhuo-storage-us/.local/lib/python3.10/site-packages/tqdm/auto.py:21: TqdmWarning: IProgress not found. Please update jupyter and ipywidgets. See https://ipywidgets.readthedocs.io/en/stable/user_install.html\n",
      "  from .autonotebook import tqdm as notebook_tqdm\n"
     ]
    }
   ],
   "source": [
    "from transformers import AutoTokenizer\n",
    "tokenizer = AutoTokenizer.from_pretrained(\"allenai/specter2_base\", use_fast=True, trust_remote_code=True)"
   ]
  },
  {
   "cell_type": "code",
   "execution_count": 4,
   "metadata": {},
   "outputs": [],
   "source": [
    "patents['patent_abstract'] = abstracts.patent_abstract\n",
    "patents['content'] = patents.patent_title + tokenizer.sep_token + patents.patent_abstract\n",
    "patents.patent_id = patents.patent_id.astype(str)\n",
    "patents = patents[patents.patent_abstract.notna()]"
   ]
  },
  {
   "cell_type": "code",
   "execution_count": 7,
   "metadata": {},
   "outputs": [],
   "source": [
    "save_path = '/mnt/local/ii/retriever/patents'\n",
    "\n",
    "patents.sample(frac=0.1).to_parquet(f'{save_path}/patents_sample.parquet')\n",
    "patents.to_parquet(f'{save_path}/patents_all.parquet')"
   ]
  },
  {
   "cell_type": "code",
   "execution_count": 30,
   "metadata": {},
   "outputs": [
    {
     "data": {
      "text/plain": [
       "Dataset({\n",
       "    features: ['patent_id', 'patent_type', 'patent_date', 'patent_title', 'wipo_kind', 'num_claims', 'withdrawn', 'filename', 'patent_abstract', 'content'],\n",
       "    num_rows: 10000\n",
       "})"
      ]
     },
     "execution_count": 30,
     "metadata": {},
     "output_type": "execute_result"
    }
   ],
   "source": [
    "import datasets\n",
    "datasets.load_dataset(\n",
    "    'parquet',\n",
    "    data_files='./data/patents.parquet',\n",
    "    split='train',\n",
    "    num_proc=4\n",
    ")"
   ]
  }
 ],
 "metadata": {
  "language_info": {
   "name": "python"
  }
 },
 "nbformat": 4,
 "nbformat_minor": 2
}
