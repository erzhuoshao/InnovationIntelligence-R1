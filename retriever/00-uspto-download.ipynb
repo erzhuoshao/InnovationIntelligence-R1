{
 "cells": [
  {
   "cell_type": "code",
   "metadata": {},
   "outputs": [],
   "source": "# Create data directory if it doesn't exist\n!mkdir -p /mnt/local/ii/retriever/patents/data\n\n# Download patent files to data directory\n!wget -P /mnt/local/ii/retriever/patents/data https://s3.amazonaws.com/data.patentsview.org/download/g_patent.tsv.zip\n!wget -P /mnt/local/ii/retriever/patents/data https://s3.amazonaws.com/data.patentsview.org/download/g_patent_abstract.tsv.zip\n\n# Decompress the downloaded files\n!unzip -o /mnt/local/ii/retriever/patents/data/g_patent.tsv.zip -d /mnt/local/ii/retriever/patents/data\n!unzip -o /mnt/local/ii/retriever/patents/data/g_patent_abstract.tsv.zip -d /mnt/local/ii/retriever/patents/data"
  },
  {
   "cell_type": "code",
   "metadata": {},
   "outputs": [],
   "source": "import pandas as pd\n\n# Load the data into pandas dataframes\npatents = pd.read_csv('/mnt/local/ii/retriever/patents/data/g_patent.tsv', sep='\\t')\nabstracts = pd.read_csv('/mnt/local/ii/retriever/patents/data/g_patent_abstract.tsv', sep='\\t')"
  },
  {
   "cell_type": "code",
   "execution_count": 3,
   "metadata": {},
   "outputs": [
    {
     "name": "stderr",
     "output_type": "stream",
     "text": [
      "/mnt/erzhuo-storage-us/.local/lib/python3.10/site-packages/tqdm/auto.py:21: TqdmWarning: IProgress not found. Please update jupyter and ipywidgets. See https://ipywidgets.readthedocs.io/en/stable/user_install.html\n",
      "  from .autonotebook import tqdm as notebook_tqdm\n"
     ]
    }
   ],
   "source": [
    "from transformers import AutoTokenizer\n",
    "tokenizer = AutoTokenizer.from_pretrained(\"allenai/specter2_base\", use_fast=True, trust_remote_code=True)"
   ]
  },
  {
   "cell_type": "code",
   "execution_count": 4,
   "metadata": {},
   "outputs": [],
   "source": [
    "patents['patent_abstract'] = abstracts.patent_abstract\n",
    "patents['content'] = patents.patent_title + tokenizer.sep_token + patents.patent_abstract\n",
    "patents.patent_id = patents.patent_id.astype(str)\n",
    "patents = patents[patents.patent_abstract.notna()]"
   ]
  },
  {
   "cell_type": "code",
   "execution_count": 7,
   "metadata": {},
   "outputs": [],
   "source": [
    "save_path = '/mnt/local/ii/retriever/patents'\n",
    "\n",
    "patents.sample(frac=0.1).to_parquet(f'{save_path}/patents_sample.parquet')\n",
    "patents.to_parquet(f'{save_path}/patents_all.parquet')"
   ]
  },
  {
   "cell_type": "code",
   "metadata": {},
   "outputs": [],
   "source": "import datasets\ndatasets.load_dataset(\n    'parquet',\n    data_files='/mnt/local/ii/retriever/patents/patents_sample.parquet',\n    split='train',\n    num_proc=4\n)"
  }
 ],
 "metadata": {
  "language_info": {
   "name": "python"
  }
 },
 "nbformat": 4,
 "nbformat_minor": 2
}