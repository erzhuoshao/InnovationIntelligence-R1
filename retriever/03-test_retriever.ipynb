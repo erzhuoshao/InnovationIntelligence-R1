{
 "cells": [
  {
   "cell_type": "code",
   "execution_count": 1,
   "metadata": {},
   "outputs": [
    {
     "name": "stdout",
     "output_type": "stream",
     "text": [
      "Response from server:\n",
      "{'result': [[{'document': {'id': '5996482', 'contents': 'Patent ID: 5996482\\nTitle: Specification\\nDate: 1999-12-07\\nType: utility (Kind: A)\\nNumber of Claims: 26\\n\\nAbstract:\\n A high speed, high volume fruit sectionizer is comprised of a pair of suction cup conveyors onto which fruit is loaded. The fruit is coupled by means of suction attachment to a first conveyor and carried to a position wherein the opposing side of the fruit is suction coupled to the second conveyor. The fruit is drawn through a halving guillotine and coring blade. The fruit halves are then positioned on scooping and sectioning assemblies. A rotating semicircular hoop blade cuts the fruit meat away from the peel while leaving the fruit meat and peel in place. The separated peel and fruit meat are moved across the scooping and sectioning assembly through a blade assembly which sections the fruit meat. The meat sectioning blade has a first portion which cuts through the peel and fruit meat to establish a first radial extent of the section cut. A following portion of the same blade is provided with a dull edge which completes the section cut of the fruit meat, but is not sharp enough to cut the peel or to cut any portion of the conveyor. The conveyor retains uninterrupted suction attachment with the partially sliced fruit peel and is undamaged by the suctioning blade(s). The fruit meat sections then fall away from the peel, which latter is moved by the conveyor to a disposal position. \\n'}, 'score': 443.0078125}, {'document': {'id': '10228227', 'contents': 'Patent ID: 10228227\\nTitle: Scale\\nDate: 2019-03-12\\nType: utility (Kind: B2)\\nNumber of Claims: 6\\n\\nAbstract:\\nIn a scale constituted by a plurality of scale lines, to provide such a scale capable of easily reading scale values. In a scale main body having a predetermined size and a plurality of scale lines formed thereon, temporary numbers are put one by one from 0 in an ascending order on the respective scale lines formed at each scale value interval desirably determined, with the scale line defined as 0 in the scale value being set as a starting point, and display methods between the scale line with the numeral 2, 3, 7 or 8 set at the lowermost position of the temporary number and the scale line with the numeral 1, 4, 6 or 9 set at the lowermost position of the temporary number are made different.\\n'}, 'score': 443.0703125}, {'document': {'id': '10474969', 'contents': 'Patent ID: 10474969\\nTitle: Methods and arrangements to adjust communications\\nDate: 2019-11-12\\nType: utility (Kind: B1)\\nNumber of Claims: 20\\n\\nAbstract:\\nLogic may adjust communications between customers. Logic may cluster customers into a first group associated with a first subset of synonyms and a second group associated with a second subset of the synonyms. Logic may associate a first tag with the first group and with each of the synonyms of the first subset. Logic may associate a second tag with the second group and with each of the synonyms of the second subset. Logic may associate one or more models with pairs of the groups. A first pair may comprise the first group and the second group. The first model associated with the first pair may adjust words in communications between the first group and the second group, based on the synonyms associated with the first pair, by replacement of words in a communication between customers of the first subset and customers of the second sub set.\\n'}, 'score': 443.1171875}, {'document': {'id': '7308435', 'contents': 'Patent ID: 7308435\\nTitle: Systems, methods, and software applications for modeling the structure of enterprises\\nDate: 2007-12-11\\nType: utility (Kind: B2)\\nNumber of Claims: 35\\n\\nAbstract:\\nA computer system is provided for modeling the structure of an enterprise comprising a first class of objects. An object of the class may represent an organizational unit of the enterprise. The class may comprise a method for assigning and/or deassigning to an object of the class at least one attribute from at least five types of attributes comprising: a first type describing a work to be performed by the unit; a second type describing a legal entity, which the unit represents; a third type describing a disciplinary or line management properties of the unit; a fourth type describing a financial responsibility of the unit; and a fifth type describing a location, which the unit represents. The system may further include means for assigning and/or deassigning to an object of said class at least one property depending on the assigned attribute.\\n'}, 'score': 443.140625}, {'document': {'id': '8566141', 'contents': 'Patent ID: 8566141\\nTitle: System and method of applying custom lead generation criteria\\nDate: 2013-10-22\\nType: utility (Kind: B1)\\nNumber of Claims: 20\\n\\nAbstract:\\nA computer system for applying custom lead generation criteria comprises vendor criteria data, vendor custom criteria data, vendor plan data, and computer hardware that executes software components that cause a computer processor to: (1) receive consumer data about a consumer; (2) choose standard criteria, custom criteria, or both standard criteria and custom criteria that are to be applied to the consumer data to match the consumer with one or more vendors that are to receive a lead for the consumer; (3) apply the chosen standard criteria, custom criteria, or both standard criteria and custom criteria to the consumer data and to match the consumer with one or more vendors that are to receive a lead for the consumer; (4) generate a lead comprising at least a portion of the consumer data; and (5) transmit the lead to the matched vendors.\\n'}, 'score': 443.140625}], [{'document': {'id': '11687807', 'contents': 'Patent ID: 11687807\\nTitle: Outcome creation based upon synthesis of history\\nDate: 2023-06-27\\nType: utility (Kind: B1)\\nNumber of Claims: 18\\n\\nAbstract:\\nA method of exercising effective influence over future occurrences using knowledge synthesis is described. Techniques include influencing methods that yield actions, once a proposed outcome has been assumed. This is different from methods, typically referred to as “predictive” or “prescriptive” that use analytics to model future results based upon existing data and predict most likely outcome. One or more methods of analysis of historical data, in a hierarchical manner, determine events which led to an observed outcome. The outcome-based algorithms use, as input, a future event or state and generate attributes that are necessary precursors. By creating these attributes, the future can be affected. Where necessary, synthetic contributors of such attributes are also created and made to act in ways consistent with generating the assumed outcome. These contributors might be called upon respectively, to post favorable opinions, to report balmy weather, or to describe sales to a certain population demographic.\\n'}, 'score': 440.265625}, {'document': {'id': '12175501', 'contents': 'Patent ID: 12175501\\nTitle: AI to AI communication\\nDate: 2024-12-24\\nType: utility (Kind: B2)\\nNumber of Claims: 18\\n\\nAbstract:\\nA method includes collecting, by a first AI application of a first AI computer, data to include in a dataset. The first AI application of the first AI computer can include an offer for the dataset into an offering platform. The first AI application of the first AI computer can then receive a response to the offer from a second AI application of a second AI computer. The first AI application of the first AI computer can determine whether or not to provide the dataset to the second AI application of the second AI computer. The first AI application of the first AI computer can, based on the determination, provide the dataset to the second AI application of the second AI computer.\\n'}, 'score': 440.375}, {'document': {'id': '11526507', 'contents': 'Patent ID: 11526507\\nTitle: Neural network based translation of natural language queries to database queries\\nDate: 2022-12-13\\nType: utility (Kind: B2)\\nNumber of Claims: 20\\n\\nAbstract:\\nA computing system uses neural networks to translate natural language queries to database queries. The computing system uses a plurality of machine learning based models, each machine learning model for generating a portion of the database query. The machine learning models use an input representation generated based on terms of the input natural language query, a set of columns of the database schema, and the vocabulary of a database query language, for example, structured query language SQL. The plurality of machine learning based models may include an aggregation classifier model for determining an aggregation operator in the database query, a result column predictor model for determining the result columns of the database query, and a condition clause predictor model for determining the condition clause of the database query. The condition clause predictor is based on reinforcement learning.\\n'}, 'score': 440.3984375}, {'document': {'id': '5133665', 'contents': \"Patent ID: 5133665\\nTitle: Teaching book\\nDate: 1992-07-28\\nType: utility (Kind: A)\\nNumber of Claims: 20\\n\\nAbstract:\\n A book that can be customized to teach letters, numbers, a series of letters, for example, a word such as a child's name and the like. The front cover has a window or opening through which can be seen the letters. The series of letters is formed by cutting each page short enough than the page beneath it such that letters on the right edge form the series. \\n\"}, 'score': 440.5390625}, {'document': {'id': '11625595', 'contents': 'Patent ID: 11625595\\nTitle: Knowledge transfer between recurrent neural networks\\nDate: 2023-04-11\\nType: utility (Kind: B2)\\nNumber of Claims: 25\\n\\nAbstract:\\nKnowledge transfer between recurrent neural networks is performed by obtaining a first output sequence from a bidirectional Recurrent Neural Network (RNN) model for an input sequence, obtaining a second output sequence from a unidirectional RNN model for the input sequence, selecting at least one first output from the first output sequence based on a similarity between the at least one first output and a second output from the second output sequence; and training the unidirectional RNN model to increase the similarity between the at least one first output and the second output.\\n'}, 'score': 440.5625}]]}\n"
     ]
    }
   ],
   "source": [
    "import requests\n",
    "\n",
    "# URL for your local FastAPI server\n",
    "url = \"http://127.0.0.1:8001/retrieve\"\n",
    "\n",
    "# Example payload\n",
    "payload = {\n",
    "    \"queries\": [\"What is the capital of France?\", \"Explain neural networks.\"],\n",
    "    \"topk\": 5,\n",
    "    \"return_scores\": True\n",
    "}\n",
    "\n",
    "# Send POST request\n",
    "response = requests.post(url, json=payload)\n",
    "\n",
    "# Raise an exception if the request failed\n",
    "response.raise_for_status()\n",
    "\n",
    "# Get the JSON response\n",
    "retrieved_data = response.json()\n",
    "\n",
    "print(\"Response from server:\")\n",
    "print(retrieved_data)\n"
   ]
  },
  {
   "cell_type": "code",
   "execution_count": 31,
   "metadata": {},
   "outputs": [
    {
     "data": {
      "text/plain": [
       "{'document': {'id': '1039175',\n",
       "  'contents': '\"Administration of Paris\"\\nAdministration of Paris As the capital of France, Paris is the seat of France\\'s national government. For the executive, the two chief officers each have their own official residences, which also serve as their offices. The President of France resides at the Élysée Palace in the 8th arrondissement, while the Prime Minister\\'s seat is at the Hôtel Matignon in the 7th arrondissement. Government ministries are located in various parts of the city; many are located in the 7th arrondissement, near the Matignon. The two houses of the French Parliament are located on the left bank. The upper house, the Senate,'},\n",
       " 'score': 0.8461213111877441}"
      ]
     },
     "execution_count": 31,
     "metadata": {},
     "output_type": "execute_result"
    }
   ],
   "source": [
    "retrieved_data[\"result\"][0][0]"
   ]
  },
  {
   "cell_type": "code",
   "metadata": {},
   "outputs": [],
   "source": "# Define paths\nfile_path=\"/mnt/local/ii/retriever/patents\"\nindex_file=f\"{file_path}/patents_all_index/specter2_IVF100,PQ16.index\"\ncorpus_file=f\"{file_path}/patents_sample.parquet\"\n\nimport datasets\ncorpus = datasets.load_dataset(\n    'parquet',\n    data_files=corpus_file,\n    split=\"train\",\n    num_proc=4\n)"
  },
  {
   "cell_type": "code",
   "metadata": {},
   "outputs": [],
   "source": "def format_patent_as_text(patent_entry):\n    \"\"\"\n    Formats a patent entry from the corpus into a readable text format.\n    \n    Args:\n        patent_entry: A dictionary containing patent information\n        \n    Returns:\n        str: Formatted text representation of the patent\n    \"\"\"\n    formatted_text = f\"Patent ID: {patent_entry['patent_id']}\\n\"\n    formatted_text += f\"Title: {patent_entry['patent_title']}\\n\"\n    formatted_text += f\"Date: {patent_entry['patent_date']}\\n\"\n    formatted_text += f\"Type: {patent_entry['patent_type']} (Kind: {patent_entry['wipo_kind']})\\n\"\n    formatted_text += f\"Number of Claims: {patent_entry['num_claims']}\\n\\n\"\n    formatted_text += f\"Abstract:\\n{patent_entry['patent_abstract']}\\n\"\n    \n    return formatted_text\n\n# Display the first patent in a formatted way\nprint(format_patent_as_text(corpus[0]))"
  },
  {
   "cell_type": "code",
   "execution_count": 20,
   "metadata": {},
   "outputs": [
    {
     "data": {
      "text/plain": [
       "{'patent_id': '8957486',\n",
       " 'patent_type': 'utility',\n",
       " 'patent_date': '2015-02-17',\n",
       " 'patent_title': 'Magnetic memory',\n",
       " 'wipo_kind': 'B2',\n",
       " 'num_claims': 8,\n",
       " 'withdrawn': 0,\n",
       " 'filename': 'ipg150217.xml',\n",
       " 'patent_abstract': 'Provided is a magnetic random access memory to which spin torque magnetization reversal is applied, the magnetic random access memory being thermal stable in a reading operation and also being capable of reducing a current in a wiring operation. A magnetoresistive effect element formed by sequentially stacking a fixed layer, a nonmagnetic barrier layer, and a recording layer is used as a memory element. The recording layer adopts a laminated ferrimagnetic structure. The magnetic memory satisfies the expression Ms2(t/w)>|Jex|>(2kBTΔ)/S, in which kB is a Boltzmann constant, T is an operating temperature of the magnetic memory, S is an area parallel to a film surface of the magnetoresistive effect element, t and Ms are respectively a film thickness and a saturated magnetization of the ferromagnetic layer having a smaller film thickness among two ferromagnetic layers which are constituent members of the laminated ferrimagnetic structure, w is a length of a short side of the recording layer, Δ is a thermal stability index of the magnetic memory, and Jex is exchange coupling energy acting between the two ferromagnetic layers of the recording layer.',\n",
       " 'content': 'Magnetic memory[SEP]Provided is a magnetic random access memory to which spin torque magnetization reversal is applied, the magnetic random access memory being thermal stable in a reading operation and also being capable of reducing a current in a wiring operation. A magnetoresistive effect element formed by sequentially stacking a fixed layer, a nonmagnetic barrier layer, and a recording layer is used as a memory element. The recording layer adopts a laminated ferrimagnetic structure. The magnetic memory satisfies the expression Ms2(t/w)>|Jex|>(2kBTΔ)/S, in which kB is a Boltzmann constant, T is an operating temperature of the magnetic memory, S is an area parallel to a film surface of the magnetoresistive effect element, t and Ms are respectively a film thickness and a saturated magnetization of the ferromagnetic layer having a smaller film thickness among two ferromagnetic layers which are constituent members of the laminated ferrimagnetic structure, w is a length of a short side of the recording layer, Δ is a thermal stability index of the magnetic memory, and Jex is exchange coupling energy acting between the two ferromagnetic layers of the recording layer.',\n",
       " '__index_level_0__': 7170538}"
      ]
     },
     "execution_count": 20,
     "metadata": {},
     "output_type": "execute_result"
    }
   ],
   "source": [
    "corpus[10]"
   ]
  },
  {
   "cell_type": "code",
   "execution_count": 15,
   "metadata": {},
   "outputs": [
    {
     "name": "stdout",
     "output_type": "stream",
     "text": [
      "5\n"
     ]
    }
   ],
   "source": [
    "print(len(retrieved_data['result'][0]))"
   ]
  },
  {
   "cell_type": "code",
   "execution_count": null,
   "metadata": {},
   "outputs": [],
   "source": []
  }
 ],
 "metadata": {
  "kernelspec": {
   "display_name": "retriever",
   "language": "python",
   "name": "python3"
  },
  "language_info": {
   "codemirror_mode": {
    "name": "ipython",
    "version": 3
   },
   "file_extension": ".py",
   "mimetype": "text/x-python",
   "name": "python",
   "nbconvert_exporter": "python",
   "pygments_lexer": "ipython3",
   "version": "3.10.16"
  }
 },
 "nbformat": 4,
 "nbformat_minor": 2
}